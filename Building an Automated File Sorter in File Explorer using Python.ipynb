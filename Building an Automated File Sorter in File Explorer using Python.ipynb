{
 "cells": [
  {
   "cell_type": "code",
   "execution_count": 28,
   "id": "26774810-057a-450e-a151-6ce2046a79fc",
   "metadata": {},
   "outputs": [],
   "source": [
    "import os,shutil"
   ]
  },
  {
   "cell_type": "code",
   "execution_count": 29,
   "id": "bb7b4f7d-6a22-4111-9cd2-a714a988c45e",
   "metadata": {},
   "outputs": [],
   "source": [
    "path = r\"D:/Python assign/Sorter/\"\n",
    "#r for ignoring slashes in the string and treat it as a raw string\n"
   ]
  },
  {
   "cell_type": "code",
   "execution_count": 30,
   "id": "41bfee6d-e25f-4ec8-a42a-6e2dd0221e00",
   "metadata": {},
   "outputs": [],
   "source": [
    "files = os.listdir(path)\n",
    "#os.listdir to access the path files\n"
   ]
  },
  {
   "cell_type": "code",
   "execution_count": 46,
   "id": "59e6cb7e-45e7-41d1-9c53-c96e0867e866",
   "metadata": {},
   "outputs": [],
   "source": [
    "folder_names = [\"img file\",\"python file\",\"csv file\"]\n",
    "for folder in folder_names:\n",
    "    if not os.path.exists(path + folder + \"/\"):\n",
    "        os.makedirs(path + folder + \"/\")\n",
    "for file in files:\n",
    "    if \".csv\" in file and not os.path.exists(path + \"csv file/\" + file):\n",
    "       shutil.move(path+file, path + \"csv file/\")   \n",
    "    elif \".jpg\" in file and not os.path.exists(path + \"img file/\" + file):\n",
    "       shutil.move(path+file, path + \"img file/\")  \n",
    "    elif \".py\" in file and not os.path.exists(path + \"python file/\" + file):\n",
    "       shutil.move(path+file, path + \"python file/\")  "
   ]
  },
  {
   "cell_type": "code",
   "execution_count": 32,
   "id": "ca919841-7c8d-4aed-a091-5aaf90892ff5",
   "metadata": {},
   "outputs": [
    {
     "name": "stdout",
     "output_type": "stream",
     "text": [
      "D:/Python assign/Sorter/img file/\n",
      "D:/Python assign/Sorter/python file/\n",
      "D:/Python assign/Sorter/csv file/\n"
     ]
    }
   ],
   "source": [
    "folder_names = [\"img file\",\"python file\",\"csv file\"]\n",
    "for folder in folder_names:\n",
    "    print(path + folder + \")\n"
   ]
  },
  {
   "cell_type": "code",
   "execution_count": null,
   "id": "92d52c6d-b73a-4f1e-abbe-85d8f25ff04d",
   "metadata": {},
   "outputs": [],
   "source": []
  },
  {
   "cell_type": "code",
   "execution_count": null,
   "id": "741ebb80-c4d2-443c-93a7-2097f79a474c",
   "metadata": {},
   "outputs": [],
   "source": []
  },
  {
   "cell_type": "code",
   "execution_count": null,
   "id": "58043cc4-70a6-4601-aa6e-f1ca3bcf9af4",
   "metadata": {},
   "outputs": [],
   "source": []
  }
 ],
 "metadata": {
  "kernelspec": {
   "display_name": "Python 3 (ipykernel)",
   "language": "python",
   "name": "python3"
  },
  "language_info": {
   "codemirror_mode": {
    "name": "ipython",
    "version": 3
   },
   "file_extension": ".py",
   "mimetype": "text/x-python",
   "name": "python",
   "nbconvert_exporter": "python",
   "pygments_lexer": "ipython3",
   "version": "3.12.7"
  }
 },
 "nbformat": 4,
 "nbformat_minor": 5
}
